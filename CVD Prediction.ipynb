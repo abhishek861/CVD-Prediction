{
 "cells": [
  {
   "cell_type": "code",
   "execution_count": 1,
   "id": "9e71c7f6",
   "metadata": {},
   "outputs": [],
   "source": [
    "import pandas as pd\n",
    "import numpy as np\n",
    "import matplotlib.pyplot as plt\n",
    "import seaborn as sns\n",
    "from sklearn.ensemble import RandomForestRegressor\n",
    "from sklearn.preprocessing import StandardScaler\n",
    "from sklearn.preprocessing import MinMaxScaler\n",
    "from sklearn.model_selection import train_test_split\n",
    "from scipy import stats\n",
    "from sklearn.svm import SVC\n",
    "from sklearn.metrics import  accuracy_score\n",
    "from sklearn.metrics import classification_report\n",
    "from sklearn.model_selection import GridSearchCV"
   ]
  },
  {
   "cell_type": "code",
   "execution_count": 2,
   "id": "fd60c79f",
   "metadata": {},
   "outputs": [
    {
     "data": {
      "text/html": [
       "<div>\n",
       "<style scoped>\n",
       "    .dataframe tbody tr th:only-of-type {\n",
       "        vertical-align: middle;\n",
       "    }\n",
       "\n",
       "    .dataframe tbody tr th {\n",
       "        vertical-align: top;\n",
       "    }\n",
       "\n",
       "    .dataframe thead th {\n",
       "        text-align: right;\n",
       "    }\n",
       "</style>\n",
       "<table border=\"1\" class=\"dataframe\">\n",
       "  <thead>\n",
       "    <tr style=\"text-align: right;\">\n",
       "      <th></th>\n",
       "      <th>Age</th>\n",
       "      <th>Sex</th>\n",
       "      <th>ChestPainType</th>\n",
       "      <th>RestingBP</th>\n",
       "      <th>Cholesterol</th>\n",
       "      <th>FastingBS</th>\n",
       "      <th>RestingECG</th>\n",
       "      <th>MaxHR</th>\n",
       "      <th>ExerciseAngina</th>\n",
       "      <th>Oldpeak</th>\n",
       "      <th>ST_Slope</th>\n",
       "      <th>HeartDisease</th>\n",
       "    </tr>\n",
       "  </thead>\n",
       "  <tbody>\n",
       "    <tr>\n",
       "      <th>0</th>\n",
       "      <td>40</td>\n",
       "      <td>M</td>\n",
       "      <td>ATA</td>\n",
       "      <td>140</td>\n",
       "      <td>289</td>\n",
       "      <td>0</td>\n",
       "      <td>Normal</td>\n",
       "      <td>172</td>\n",
       "      <td>N</td>\n",
       "      <td>0.0</td>\n",
       "      <td>Up</td>\n",
       "      <td>0</td>\n",
       "    </tr>\n",
       "    <tr>\n",
       "      <th>1</th>\n",
       "      <td>49</td>\n",
       "      <td>F</td>\n",
       "      <td>NAP</td>\n",
       "      <td>160</td>\n",
       "      <td>180</td>\n",
       "      <td>0</td>\n",
       "      <td>Normal</td>\n",
       "      <td>156</td>\n",
       "      <td>N</td>\n",
       "      <td>1.0</td>\n",
       "      <td>Flat</td>\n",
       "      <td>1</td>\n",
       "    </tr>\n",
       "    <tr>\n",
       "      <th>2</th>\n",
       "      <td>37</td>\n",
       "      <td>M</td>\n",
       "      <td>ATA</td>\n",
       "      <td>130</td>\n",
       "      <td>283</td>\n",
       "      <td>0</td>\n",
       "      <td>ST</td>\n",
       "      <td>98</td>\n",
       "      <td>N</td>\n",
       "      <td>0.0</td>\n",
       "      <td>Up</td>\n",
       "      <td>0</td>\n",
       "    </tr>\n",
       "    <tr>\n",
       "      <th>3</th>\n",
       "      <td>48</td>\n",
       "      <td>F</td>\n",
       "      <td>ASY</td>\n",
       "      <td>138</td>\n",
       "      <td>214</td>\n",
       "      <td>0</td>\n",
       "      <td>Normal</td>\n",
       "      <td>108</td>\n",
       "      <td>Y</td>\n",
       "      <td>1.5</td>\n",
       "      <td>Flat</td>\n",
       "      <td>1</td>\n",
       "    </tr>\n",
       "    <tr>\n",
       "      <th>4</th>\n",
       "      <td>54</td>\n",
       "      <td>M</td>\n",
       "      <td>NAP</td>\n",
       "      <td>150</td>\n",
       "      <td>195</td>\n",
       "      <td>0</td>\n",
       "      <td>Normal</td>\n",
       "      <td>122</td>\n",
       "      <td>N</td>\n",
       "      <td>0.0</td>\n",
       "      <td>Up</td>\n",
       "      <td>0</td>\n",
       "    </tr>\n",
       "  </tbody>\n",
       "</table>\n",
       "</div>"
      ],
      "text/plain": [
       "   Age Sex ChestPainType  RestingBP  Cholesterol  FastingBS RestingECG  MaxHR  \\\n",
       "0   40   M           ATA        140          289          0     Normal    172   \n",
       "1   49   F           NAP        160          180          0     Normal    156   \n",
       "2   37   M           ATA        130          283          0         ST     98   \n",
       "3   48   F           ASY        138          214          0     Normal    108   \n",
       "4   54   M           NAP        150          195          0     Normal    122   \n",
       "\n",
       "  ExerciseAngina  Oldpeak ST_Slope  HeartDisease  \n",
       "0              N      0.0       Up             0  \n",
       "1              N      1.0     Flat             1  \n",
       "2              N      0.0       Up             0  \n",
       "3              Y      1.5     Flat             1  \n",
       "4              N      0.0       Up             0  "
      ]
     },
     "execution_count": 2,
     "metadata": {},
     "output_type": "execute_result"
    }
   ],
   "source": [
    "df = pd.read_csv('heart.csv')\n",
    "df.head()"
   ]
  },
  {
   "cell_type": "code",
   "execution_count": 3,
   "id": "2c981b5f",
   "metadata": {},
   "outputs": [
    {
     "data": {
      "text/plain": [
       "<AxesSubplot:>"
      ]
     },
     "execution_count": 3,
     "metadata": {},
     "output_type": "execute_result"
    },
    {
     "data": {
      "image/png": "[encoded data removed]",
      "text/plain": [
       "<Figure size 432x288 with 1 Axes>"
      ]
     },
     "metadata": {
      "needs_background": "light"
     },
     "output_type": "display_data"
    }
   ],
   "source": [
    "sns.heatmap(df.isna(),yticklabels=False,cbar=False)"
   ]
  },
  {
   "cell_type": "code",
   "execution_count": 4,
   "id": "364a47c7",
   "metadata": {},
   "outputs": [
    {
     "data": {
      "text/plain": [
       "(918, 12)"
      ]
     },
     "execution_count": 4,
     "metadata": {},
     "output_type": "execute_result"
    }
   ],
   "source": [
    "df.shape"
   ]
  },
  {
   "cell_type": "code",
   "execution_count": 5,
   "id": "8ccbf1c6",
   "metadata": {},
   "outputs": [
    {
     "name": "stdout",
     "output_type": "stream",
     "text": [
      "<class 'pandas.core.frame.DataFrame'>\n",
      "RangeIndex: 918 entries, 0 to 917\n",
      "Data columns (total 12 columns):\n",
      " #   Column          Non-Null Count  Dtype  \n",
      "---  ------          --------------  -----  \n",
      " 0   Age             918 non-null    int64  \n",
      " 1   Sex             918 non-null    object \n",
      " 2   ChestPainType   918 non-null    object \n",
      " 3   RestingBP       918 non-null    int64  \n",
      " 4   Cholesterol     918 non-null    int64  \n",
      " 5   FastingBS       918 non-null    int64  \n",
      " 6   RestingECG      918 non-null    object \n",
      " 7   MaxHR           918 non-null    int64  \n",
      " 8   ExerciseAngina  918 non-null    object \n",
      " 9   Oldpeak         918 non-null    float64\n",
      " 10  ST_Slope        918 non-null    object \n",
      " 11  HeartDisease    918 non-null    int64  \n",
      "dtypes: float64(1), int64(6), object(5)\n",
      "memory usage: 86.2+ KB\n"
     ]
    }
   ],
   "source": [
    "df.info()"
   ]
  },
  {
   "cell_type": "code",
   "execution_count": 6,
   "id": "ffbfcd3c",
   "metadata": {},
   "outputs": [],
   "source": [
    "#Function to reteive categorical columns"
   ]
  },
  {
   "cell_type": "code",
   "execution_count": 7,
   "id": "76983771",
   "metadata": {},
   "outputs": [],
   "source": [
    "def get_cat_col(df):\n",
    "    main_col = df.columns\n",
    "    num_col = df._get_numeric_data().columns\n",
    "    cat_col = list(set(main_col) - set(num_col))\n",
    "    return cat_col"
   ]
  },
  {
   "cell_type": "code",
   "execution_count": 8,
   "id": "eda0f8c9",
   "metadata": {},
   "outputs": [
    {
     "data": {
      "text/plain": [
       "['ChestPainType', 'Sex', 'ST_Slope', 'RestingECG', 'ExerciseAngina']"
      ]
     },
     "execution_count": 8,
     "metadata": {},
     "output_type": "execute_result"
    }
   ],
   "source": [
    "get_cat_col(df)"
   ]
  },
  {
   "cell_type": "code",
   "execution_count": 9,
   "id": "2a8e4db1",
   "metadata": {},
   "outputs": [
    {
     "data": {
      "text/plain": [
       "<AxesSubplot:>"
      ]
     },
     "execution_count": 9,
     "metadata": {},
     "output_type": "execute_result"
    },
    {
     "data": {
      "image/png": "[encoded data removed]",
      "text/plain": [
       "<Figure size 432x288 with 1 Axes>"
      ]
     },
     "metadata": {
      "needs_background": "light"
     },
     "output_type": "display_data"
    }
   ],
   "source": [
    "df.ExerciseAngina.value_counts().plot(kind='bar')"
   ]
  },
  {
   "cell_type": "code",
   "execution_count": 10,
   "id": "e4dfd92a",
   "metadata": {},
   "outputs": [
    {
     "data": {
      "text/plain": [
       "<AxesSubplot:>"
      ]
     },
     "execution_count": 10,
     "metadata": {},
     "output_type": "execute_result"
    },
    {
     "data": {
      "image/png": "[encoded data removed]",
      "text/plain": [
       "<Figure size 432x288 with 1 Axes>"
      ]
     },
     "metadata": {
      "needs_background": "light"
     },
     "output_type": "display_data"
    }
   ],
   "source": [
    "df.ST_Slope.value_counts().plot(kind='bar')"
   ]
  },
  {
   "cell_type": "code",
   "execution_count": 11,
   "id": "8d921a0c",
   "metadata": {},
   "outputs": [
    {
     "data": {
      "text/plain": [
       "<AxesSubplot:>"
      ]
     },
     "execution_count": 11,
     "metadata": {},
     "output_type": "execute_result"
    },
    {
     "data": {
      "image/png": "[encoded data removed]",
      "text/plain": [
       "<Figure size 432x288 with 1 Axes>"
      ]
     },
     "metadata": {
      "needs_background": "light"
     },
     "output_type": "display_data"
    }
   ],
   "source": [
    "df.ChestPainType.value_counts().plot(kind = 'bar')"
   ]
  },
  {
   "cell_type": "code",
   "execution_count": 12,
   "id": "60d5c81b",
   "metadata": {},
   "outputs": [
    {
     "data": {
      "text/plain": [
       "<AxesSubplot:>"
      ]
     },
     "execution_count": 12,
     "metadata": {},
     "output_type": "execute_result"
    },
    {
     "data": {
      "image/png": "[encoded data removed]",
      "text/plain": [
       "<Figure size 432x288 with 1 Axes>"
      ]
     },
     "metadata": {
      "needs_background": "light"
     },
     "output_type": "display_data"
    }
   ],
   "source": [
    "df['Sex'].value_counts().plot(kind = 'bar')"
   ]
  },
  {
   "cell_type": "code",
   "execution_count": 13,
   "id": "9ec1611f",
   "metadata": {},
   "outputs": [],
   "source": [
    "def category_onehot_multcols(multcolumns):\n",
    "    df_final=df\n",
    "    i=0\n",
    "    for fields in multcolumns:\n",
    "        \n",
    "        print(fields)\n",
    "        df1=pd.get_dummies(df[fields],drop_first=False)\n",
    "        print(df1.columns)\n",
    "        df.drop([fields],axis=1,inplace=True)\n",
    "        if i==0:\n",
    "            df_final=df1.copy()\n",
    "        else:\n",
    "            \n",
    "            df_final=pd.concat([df_final,df1],axis=1)\n",
    "        i=i+1\n",
    "       \n",
    "        \n",
    "    df_final=pd.concat([df,df_final],axis=1)\n",
    "        \n",
    "    return df_final"
   ]
  },
  {
   "cell_type": "code",
   "execution_count": 14,
   "id": "4e79074f",
   "metadata": {},
   "outputs": [
    {
     "name": "stdout",
     "output_type": "stream",
     "text": [
      "ChestPainType\n",
      "Index(['ASY', 'ATA', 'NAP', 'TA'], dtype='object')\n",
      "Sex\n",
      "Index(['F', 'M'], dtype='object')\n",
      "ST_Slope\n",
      "Index(['Down', 'Flat', 'Up'], dtype='object')\n",
      "RestingECG\n",
      "Index(['LVH', 'Normal', 'ST'], dtype='object')\n",
      "ExerciseAngina\n",
      "Index(['N', 'Y'], dtype='object')\n"
     ]
    }
   ],
   "source": [
    "new_df = category_onehot_multcols(get_cat_col(df))"
   ]
  },
  {
   "cell_type": "code",
   "execution_count": 15,
   "id": "41e4dcbc",
   "metadata": {},
   "outputs": [
    {
     "name": "stdout",
     "output_type": "stream",
     "text": [
      "<class 'pandas.core.frame.DataFrame'>\n",
      "RangeIndex: 918 entries, 0 to 917\n",
      "Data columns (total 21 columns):\n",
      " #   Column        Non-Null Count  Dtype  \n",
      "---  ------        --------------  -----  \n",
      " 0   Age           918 non-null    int64  \n",
      " 1   RestingBP     918 non-null    int64  \n",
      " 2   Cholesterol   918 non-null    int64  \n",
      " 3   FastingBS     918 non-null    int64  \n",
      " 4   MaxHR         918 non-null    int64  \n",
      " 5   Oldpeak       918 non-null    float64\n",
      " 6   HeartDisease  918 non-null    int64  \n",
      " 7   ASY           918 non-null    uint8  \n",
      " 8   ATA           918 non-null    uint8  \n",
      " 9   NAP           918 non-null    uint8  \n",
      " 10  TA            918 non-null    uint8  \n",
      " 11  F             918 non-null    uint8  \n",
      " 12  M             918 non-null    uint8  \n",
      " 13  Down          918 non-null    uint8  \n",
      " 14  Flat          918 non-null    uint8  \n",
      " 15  Up            918 non-null    uint8  \n",
      " 16  LVH           918 non-null    uint8  \n",
      " 17  Normal        918 non-null    uint8  \n",
      " 18  ST            918 non-null    uint8  \n",
      " 19  N             918 non-null    uint8  \n",
      " 20  Y             918 non-null    uint8  \n",
      "dtypes: float64(1), int64(6), uint8(14)\n",
      "memory usage: 62.9 KB\n"
     ]
    }
   ],
   "source": [
    "new_df.info()"
   ]
  },
  {
   "cell_type": "code",
   "execution_count": 16,
   "id": "97405ec8",
   "metadata": {},
   "outputs": [
    {
     "data": {
      "text/html": [
       "<div>\n",
       "<style scoped>\n",
       "    .dataframe tbody tr th:only-of-type {\n",
       "        vertical-align: middle;\n",
       "    }\n",
       "\n",
       "    .dataframe tbody tr th {\n",
       "        vertical-align: top;\n",
       "    }\n",
       "\n",
       "    .dataframe thead th {\n",
       "        text-align: right;\n",
       "    }\n",
       "</style>\n",
       "<table border=\"1\" class=\"dataframe\">\n",
       "  <thead>\n",
       "    <tr style=\"text-align: right;\">\n",
       "      <th></th>\n",
       "      <th>Age</th>\n",
       "      <th>RestingBP</th>\n",
       "      <th>Cholesterol</th>\n",
       "      <th>FastingBS</th>\n",
       "      <th>MaxHR</th>\n",
       "      <th>Oldpeak</th>\n",
       "      <th>HeartDisease</th>\n",
       "      <th>ASY</th>\n",
       "      <th>ATA</th>\n",
       "      <th>NAP</th>\n",
       "      <th>...</th>\n",
       "      <th>F</th>\n",
       "      <th>M</th>\n",
       "      <th>Down</th>\n",
       "      <th>Flat</th>\n",
       "      <th>Up</th>\n",
       "      <th>LVH</th>\n",
       "      <th>Normal</th>\n",
       "      <th>ST</th>\n",
       "      <th>N</th>\n",
       "      <th>Y</th>\n",
       "    </tr>\n",
       "  </thead>\n",
       "  <tbody>\n",
       "    <tr>\n",
       "      <th>0</th>\n",
       "      <td>40</td>\n",
       "      <td>140</td>\n",
       "      <td>289</td>\n",
       "      <td>0</td>\n",
       "      <td>172</td>\n",
       "      <td>0.0</td>\n",
       "      <td>0</td>\n",
       "      <td>0</td>\n",
       "      <td>1</td>\n",
       "      <td>0</td>\n",
       "      <td>...</td>\n",
       "      <td>0</td>\n",
       "      <td>1</td>\n",
       "      <td>0</td>\n",
       "      <td>0</td>\n",
       "      <td>1</td>\n",
       "      <td>0</td>\n",
       "      <td>1</td>\n",
       "      <td>0</td>\n",
       "      <td>1</td>\n",
       "      <td>0</td>\n",
       "    </tr>\n",
       "    <tr>\n",
       "      <th>1</th>\n",
       "      <td>49</td>\n",
       "      <td>160</td>\n",
       "      <td>180</td>\n",
       "      <td>0</td>\n",
       "      <td>156</td>\n",
       "      <td>1.0</td>\n",
       "      <td>1</td>\n",
       "      <td>0</td>\n",
       "      <td>0</td>\n",
       "      <td>1</td>\n",
       "      <td>...</td>\n",
       "      <td>1</td>\n",
       "      <td>0</td>\n",
       "      <td>0</td>\n",
       "      <td>1</td>\n",
       "      <td>0</td>\n",
       "      <td>0</td>\n",
       "      <td>1</td>\n",
       "      <td>0</td>\n",
       "      <td>1</td>\n",
       "      <td>0</td>\n",
       "    </tr>\n",
       "    <tr>\n",
       "      <th>2</th>\n",
       "      <td>37</td>\n",
       "      <td>130</td>\n",
       "      <td>283</td>\n",
       "      <td>0</td>\n",
       "      <td>98</td>\n",
       "      <td>0.0</td>\n",
       "      <td>0</td>\n",
       "      <td>0</td>\n",
       "      <td>1</td>\n",
       "      <td>0</td>\n",
       "      <td>...</td>\n",
       "      <td>0</td>\n",
       "      <td>1</td>\n",
       "      <td>0</td>\n",
       "      <td>0</td>\n",
       "      <td>1</td>\n",
       "      <td>0</td>\n",
       "      <td>0</td>\n",
       "      <td>1</td>\n",
       "      <td>1</td>\n",
       "      <td>0</td>\n",
       "    </tr>\n",
       "    <tr>\n",
       "      <th>3</th>\n",
       "      <td>48</td>\n",
       "      <td>138</td>\n",
       "      <td>214</td>\n",
       "      <td>0</td>\n",
       "      <td>108</td>\n",
       "      <td>1.5</td>\n",
       "      <td>1</td>\n",
       "      <td>1</td>\n",
       "      <td>0</td>\n",
       "      <td>0</td>\n",
       "      <td>...</td>\n",
       "      <td>1</td>\n",
       "      <td>0</td>\n",
       "      <td>0</td>\n",
       "      <td>1</td>\n",
       "      <td>0</td>\n",
       "      <td>0</td>\n",
       "      <td>1</td>\n",
       "      <td>0</td>\n",
       "      <td>0</td>\n",
       "      <td>1</td>\n",
       "    </tr>\n",
       "    <tr>\n",
       "      <th>4</th>\n",
       "      <td>54</td>\n",
       "      <td>150</td>\n",
       "      <td>195</td>\n",
       "      <td>0</td>\n",
       "      <td>122</td>\n",
       "      <td>0.0</td>\n",
       "      <td>0</td>\n",
       "      <td>0</td>\n",
       "      <td>0</td>\n",
       "      <td>1</td>\n",
       "      <td>...</td>\n",
       "      <td>0</td>\n",
       "      <td>1</td>\n",
       "      <td>0</td>\n",
       "      <td>0</td>\n",
       "      <td>1</td>\n",
       "      <td>0</td>\n",
       "      <td>1</td>\n",
       "      <td>0</td>\n",
       "      <td>1</td>\n",
       "      <td>0</td>\n",
       "    </tr>\n",
       "  </tbody>\n",
       "</table>\n",
       "<p>5 rows × 21 columns</p>\n",
       "</div>"
      ],
      "text/plain": [
       "   Age  RestingBP  Cholesterol  FastingBS  MaxHR  Oldpeak  HeartDisease  ASY  \\\n",
       "0   40        140          289          0    172      0.0             0    0   \n",
       "1   49        160          180          0    156      1.0             1    0   \n",
       "2   37        130          283          0     98      0.0             0    0   \n",
       "3   48        138          214          0    108      1.5             1    1   \n",
       "4   54        150          195          0    122      0.0             0    0   \n",
       "\n",
       "   ATA  NAP  ...  F  M  Down  Flat  Up  LVH  Normal  ST  N  Y  \n",
       "0    1    0  ...  0  1     0     0   1    0       1   0  1  0  \n",
       "1    0    1  ...  1  0     0     1   0    0       1   0  1  0  \n",
       "2    1    0  ...  0  1     0     0   1    0       0   1  1  0  \n",
       "3    0    0  ...  1  0     0     1   0    0       1   0  0  1  \n",
       "4    0    1  ...  0  1     0     0   1    0       1   0  1  0  \n",
       "\n",
       "[5 rows x 21 columns]"
      ]
     },
     "execution_count": 16,
     "metadata": {},
     "output_type": "execute_result"
    }
   ],
   "source": [
    "new_df.head()"
   ]
  },
  {
   "cell_type": "code",
   "execution_count": 17,
   "id": "6c4d6475",
   "metadata": {},
   "outputs": [
    {
     "data": {
      "text/html": [
       "<div>\n",
       "<style scoped>\n",
       "    .dataframe tbody tr th:only-of-type {\n",
       "        vertical-align: middle;\n",
       "    }\n",
       "\n",
       "    .dataframe tbody tr th {\n",
       "        vertical-align: top;\n",
       "    }\n",
       "\n",
       "    .dataframe thead th {\n",
       "        text-align: right;\n",
       "    }\n",
       "</style>\n",
       "<table border=\"1\" class=\"dataframe\">\n",
       "  <thead>\n",
       "    <tr style=\"text-align: right;\">\n",
       "      <th></th>\n",
       "      <th>Age</th>\n",
       "      <th>RestingBP</th>\n",
       "      <th>Cholesterol</th>\n",
       "      <th>FastingBS</th>\n",
       "      <th>MaxHR</th>\n",
       "      <th>Oldpeak</th>\n",
       "      <th>HeartDisease</th>\n",
       "      <th>ASY</th>\n",
       "      <th>ATA</th>\n",
       "      <th>NAP</th>\n",
       "      <th>...</th>\n",
       "      <th>F</th>\n",
       "      <th>M</th>\n",
       "      <th>Down</th>\n",
       "      <th>Flat</th>\n",
       "      <th>Up</th>\n",
       "      <th>LVH</th>\n",
       "      <th>Normal</th>\n",
       "      <th>ST</th>\n",
       "      <th>N</th>\n",
       "      <th>Y</th>\n",
       "    </tr>\n",
       "  </thead>\n",
       "  <tbody>\n",
       "    <tr>\n",
       "      <th>Age</th>\n",
       "      <td>1.000000</td>\n",
       "      <td>0.254399</td>\n",
       "      <td>-0.095282</td>\n",
       "      <td>0.198039</td>\n",
       "      <td>-0.382045</td>\n",
       "      <td>0.258612</td>\n",
       "      <td>0.282039</td>\n",
       "      <td>0.166607</td>\n",
       "      <td>-0.218165</td>\n",
       "      <td>-0.011335</td>\n",
       "      <td>...</td>\n",
       "      <td>-0.055750</td>\n",
       "      <td>0.055750</td>\n",
       "      <td>0.138397</td>\n",
       "      <td>0.185568</td>\n",
       "      <td>-0.258067</td>\n",
       "      <td>0.145727</td>\n",
       "      <td>-0.230566</td>\n",
       "      <td>0.136798</td>\n",
       "      <td>-0.215793</td>\n",
       "      <td>0.215793</td>\n",
       "    </tr>\n",
       "    <tr>\n",
       "      <th>RestingBP</th>\n",
       "      <td>0.254399</td>\n",
       "      <td>1.000000</td>\n",
       "      <td>0.100893</td>\n",
       "      <td>0.070193</td>\n",
       "      <td>-0.112135</td>\n",
       "      <td>0.164803</td>\n",
       "      <td>0.107589</td>\n",
       "      <td>0.048824</td>\n",
       "      <td>-0.046153</td>\n",
       "      <td>-0.041348</td>\n",
       "      <td>...</td>\n",
       "      <td>-0.005133</td>\n",
       "      <td>0.005133</td>\n",
       "      <td>-0.007912</td>\n",
       "      <td>0.099207</td>\n",
       "      <td>-0.096146</td>\n",
       "      <td>0.053166</td>\n",
       "      <td>-0.116851</td>\n",
       "      <td>0.090447</td>\n",
       "      <td>-0.155101</td>\n",
       "      <td>0.155101</td>\n",
       "    </tr>\n",
       "    <tr>\n",
       "      <th>Cholesterol</th>\n",
       "      <td>-0.095282</td>\n",
       "      <td>0.100893</td>\n",
       "      <td>1.000000</td>\n",
       "      <td>-0.260974</td>\n",
       "      <td>0.235792</td>\n",
       "      <td>0.050148</td>\n",
       "      <td>-0.232741</td>\n",
       "      <td>-0.120531</td>\n",
       "      <td>0.150954</td>\n",
       "      <td>-0.006634</td>\n",
       "      <td>...</td>\n",
       "      <td>0.200092</td>\n",
       "      <td>-0.200092</td>\n",
       "      <td>-0.083371</td>\n",
       "      <td>-0.050953</td>\n",
       "      <td>0.094027</td>\n",
       "      <td>0.177077</td>\n",
       "      <td>-0.038470</td>\n",
       "      <td>-0.133106</td>\n",
       "      <td>0.034166</td>\n",
       "      <td>-0.034166</td>\n",
       "    </tr>\n",
       "    <tr>\n",
       "      <th>FastingBS</th>\n",
       "      <td>0.198039</td>\n",
       "      <td>0.070193</td>\n",
       "      <td>-0.260974</td>\n",
       "      <td>1.000000</td>\n",
       "      <td>-0.131438</td>\n",
       "      <td>0.052698</td>\n",
       "      <td>0.267291</td>\n",
       "      <td>0.131176</td>\n",
       "      <td>-0.140514</td>\n",
       "      <td>-0.039249</td>\n",
       "      <td>...</td>\n",
       "      <td>-0.120076</td>\n",
       "      <td>0.120076</td>\n",
       "      <td>0.105102</td>\n",
       "      <td>0.107006</td>\n",
       "      <td>-0.161730</td>\n",
       "      <td>-0.011656</td>\n",
       "      <td>-0.093028</td>\n",
       "      <td>0.127110</td>\n",
       "      <td>-0.060451</td>\n",
       "      <td>0.060451</td>\n",
       "    </tr>\n",
       "    <tr>\n",
       "      <th>MaxHR</th>\n",
       "      <td>-0.382045</td>\n",
       "      <td>-0.112135</td>\n",
       "      <td>0.235792</td>\n",
       "      <td>-0.131438</td>\n",
       "      <td>1.000000</td>\n",
       "      <td>-0.160691</td>\n",
       "      <td>-0.400421</td>\n",
       "      <td>-0.354963</td>\n",
       "      <td>0.253735</td>\n",
       "      <td>0.134580</td>\n",
       "      <td>...</td>\n",
       "      <td>0.189186</td>\n",
       "      <td>-0.189186</td>\n",
       "      <td>-0.073316</td>\n",
       "      <td>-0.342581</td>\n",
       "      <td>0.383397</td>\n",
       "      <td>0.125793</td>\n",
       "      <td>0.023801</td>\n",
       "      <td>-0.157879</td>\n",
       "      <td>0.370425</td>\n",
       "      <td>-0.370425</td>\n",
       "    </tr>\n",
       "    <tr>\n",
       "      <th>Oldpeak</th>\n",
       "      <td>0.258612</td>\n",
       "      <td>0.164803</td>\n",
       "      <td>0.050148</td>\n",
       "      <td>0.052698</td>\n",
       "      <td>-0.160691</td>\n",
       "      <td>1.000000</td>\n",
       "      <td>0.403951</td>\n",
       "      <td>0.280026</td>\n",
       "      <td>-0.262124</td>\n",
       "      <td>-0.106212</td>\n",
       "      <td>...</td>\n",
       "      <td>-0.105734</td>\n",
       "      <td>0.105734</td>\n",
       "      <td>0.322130</td>\n",
       "      <td>0.283295</td>\n",
       "      <td>-0.450577</td>\n",
       "      <td>0.086794</td>\n",
       "      <td>-0.116719</td>\n",
       "      <td>0.055958</td>\n",
       "      <td>-0.408752</td>\n",
       "      <td>0.408752</td>\n",
       "    </tr>\n",
       "    <tr>\n",
       "      <th>HeartDisease</th>\n",
       "      <td>0.282039</td>\n",
       "      <td>0.107589</td>\n",
       "      <td>-0.232741</td>\n",
       "      <td>0.267291</td>\n",
       "      <td>-0.400421</td>\n",
       "      <td>0.403951</td>\n",
       "      <td>1.000000</td>\n",
       "      <td>0.516716</td>\n",
       "      <td>-0.401924</td>\n",
       "      <td>-0.212964</td>\n",
       "      <td>...</td>\n",
       "      <td>-0.305445</td>\n",
       "      <td>0.305445</td>\n",
       "      <td>0.122527</td>\n",
       "      <td>0.554134</td>\n",
       "      <td>-0.622164</td>\n",
       "      <td>0.010670</td>\n",
       "      <td>-0.091580</td>\n",
       "      <td>0.102527</td>\n",
       "      <td>-0.494282</td>\n",
       "      <td>0.494282</td>\n",
       "    </tr>\n",
       "    <tr>\n",
       "      <th>ASY</th>\n",
       "      <td>0.166607</td>\n",
       "      <td>0.048824</td>\n",
       "      <td>-0.120531</td>\n",
       "      <td>0.131176</td>\n",
       "      <td>-0.354963</td>\n",
       "      <td>0.280026</td>\n",
       "      <td>0.516716</td>\n",
       "      <td>1.000000</td>\n",
       "      <td>-0.522432</td>\n",
       "      <td>-0.577670</td>\n",
       "      <td>...</td>\n",
       "      <td>-0.183876</td>\n",
       "      <td>0.183876</td>\n",
       "      <td>0.103407</td>\n",
       "      <td>0.303645</td>\n",
       "      <td>-0.359443</td>\n",
       "      <td>0.002289</td>\n",
       "      <td>-0.063606</td>\n",
       "      <td>0.076438</td>\n",
       "      <td>-0.430034</td>\n",
       "      <td>0.430034</td>\n",
       "    </tr>\n",
       "    <tr>\n",
       "      <th>ATA</th>\n",
       "      <td>-0.218165</td>\n",
       "      <td>-0.046153</td>\n",
       "      <td>0.150954</td>\n",
       "      <td>-0.140514</td>\n",
       "      <td>0.253735</td>\n",
       "      <td>-0.262124</td>\n",
       "      <td>-0.401924</td>\n",
       "      <td>-0.522432</td>\n",
       "      <td>1.000000</td>\n",
       "      <td>-0.256767</td>\n",
       "      <td>...</td>\n",
       "      <td>0.161522</td>\n",
       "      <td>-0.161522</td>\n",
       "      <td>-0.097754</td>\n",
       "      <td>-0.304667</td>\n",
       "      <td>0.357588</td>\n",
       "      <td>-0.085791</td>\n",
       "      <td>0.107941</td>\n",
       "      <td>-0.046111</td>\n",
       "      <td>0.300365</td>\n",
       "      <td>-0.300365</td>\n",
       "    </tr>\n",
       "    <tr>\n",
       "      <th>NAP</th>\n",
       "      <td>-0.011335</td>\n",
       "      <td>-0.041348</td>\n",
       "      <td>-0.006634</td>\n",
       "      <td>-0.039249</td>\n",
       "      <td>0.134580</td>\n",
       "      <td>-0.106212</td>\n",
       "      <td>-0.212964</td>\n",
       "      <td>-0.577670</td>\n",
       "      <td>-0.256767</td>\n",
       "      <td>1.000000</td>\n",
       "      <td>...</td>\n",
       "      <td>0.066486</td>\n",
       "      <td>-0.066486</td>\n",
       "      <td>-0.040816</td>\n",
       "      <td>-0.072031</td>\n",
       "      <td>0.093583</td>\n",
       "      <td>0.035299</td>\n",
       "      <td>0.005010</td>\n",
       "      <td>-0.042236</td>\n",
       "      <td>0.166030</td>\n",
       "      <td>-0.166030</td>\n",
       "    </tr>\n",
       "    <tr>\n",
       "      <th>TA</th>\n",
       "      <td>0.032042</td>\n",
       "      <td>0.049855</td>\n",
       "      <td>0.017365</td>\n",
       "      <td>0.026885</td>\n",
       "      <td>0.100025</td>\n",
       "      <td>0.032231</td>\n",
       "      <td>-0.054790</td>\n",
       "      <td>-0.249003</td>\n",
       "      <td>-0.110679</td>\n",
       "      <td>-0.122381</td>\n",
       "      <td>...</td>\n",
       "      <td>0.004031</td>\n",
       "      <td>-0.004031</td>\n",
       "      <td>0.016651</td>\n",
       "      <td>-0.010486</td>\n",
       "      <td>0.002087</td>\n",
       "      <td>0.081407</td>\n",
       "      <td>-0.057719</td>\n",
       "      <td>-0.011611</td>\n",
       "      <td>0.128105</td>\n",
       "      <td>-0.128105</td>\n",
       "    </tr>\n",
       "    <tr>\n",
       "      <th>F</th>\n",
       "      <td>-0.055750</td>\n",
       "      <td>-0.005133</td>\n",
       "      <td>0.200092</td>\n",
       "      <td>-0.120076</td>\n",
       "      <td>0.189186</td>\n",
       "      <td>-0.105734</td>\n",
       "      <td>-0.305445</td>\n",
       "      <td>-0.183876</td>\n",
       "      <td>0.161522</td>\n",
       "      <td>0.066486</td>\n",
       "      <td>...</td>\n",
       "      <td>1.000000</td>\n",
       "      <td>-1.000000</td>\n",
       "      <td>-0.066036</td>\n",
       "      <td>-0.116077</td>\n",
       "      <td>0.150942</td>\n",
       "      <td>0.049518</td>\n",
       "      <td>0.010634</td>\n",
       "      <td>-0.063715</td>\n",
       "      <td>0.190664</td>\n",
       "      <td>-0.190664</td>\n",
       "    </tr>\n",
       "    <tr>\n",
       "      <th>M</th>\n",
       "      <td>0.055750</td>\n",
       "      <td>0.005133</td>\n",
       "      <td>-0.200092</td>\n",
       "      <td>0.120076</td>\n",
       "      <td>-0.189186</td>\n",
       "      <td>0.105734</td>\n",
       "      <td>0.305445</td>\n",
       "      <td>0.183876</td>\n",
       "      <td>-0.161522</td>\n",
       "      <td>-0.066486</td>\n",
       "      <td>...</td>\n",
       "      <td>-1.000000</td>\n",
       "      <td>1.000000</td>\n",
       "      <td>0.066036</td>\n",
       "      <td>0.116077</td>\n",
       "      <td>-0.150942</td>\n",
       "      <td>-0.049518</td>\n",
       "      <td>-0.010634</td>\n",
       "      <td>0.063715</td>\n",
       "      <td>-0.190664</td>\n",
       "      <td>0.190664</td>\n",
       "    </tr>\n",
       "    <tr>\n",
       "      <th>Down</th>\n",
       "      <td>0.138397</td>\n",
       "      <td>-0.007912</td>\n",
       "      <td>-0.083371</td>\n",
       "      <td>0.105102</td>\n",
       "      <td>-0.073316</td>\n",
       "      <td>0.322130</td>\n",
       "      <td>0.122527</td>\n",
       "      <td>0.103407</td>\n",
       "      <td>-0.097754</td>\n",
       "      <td>-0.040816</td>\n",
       "      <td>...</td>\n",
       "      <td>-0.066036</td>\n",
       "      <td>0.066036</td>\n",
       "      <td>1.000000</td>\n",
       "      <td>-0.272040</td>\n",
       "      <td>-0.235904</td>\n",
       "      <td>0.043755</td>\n",
       "      <td>-0.060564</td>\n",
       "      <td>0.030345</td>\n",
       "      <td>-0.136439</td>\n",
       "      <td>0.136439</td>\n",
       "    </tr>\n",
       "    <tr>\n",
       "      <th>Flat</th>\n",
       "      <td>0.185568</td>\n",
       "      <td>0.099207</td>\n",
       "      <td>-0.050953</td>\n",
       "      <td>0.107006</td>\n",
       "      <td>-0.342581</td>\n",
       "      <td>0.283295</td>\n",
       "      <td>0.554134</td>\n",
       "      <td>0.303645</td>\n",
       "      <td>-0.304667</td>\n",
       "      <td>-0.072031</td>\n",
       "      <td>...</td>\n",
       "      <td>-0.116077</td>\n",
       "      <td>0.116077</td>\n",
       "      <td>-0.272040</td>\n",
       "      <td>1.000000</td>\n",
       "      <td>-0.870951</td>\n",
       "      <td>0.015091</td>\n",
       "      <td>-0.047172</td>\n",
       "      <td>0.043017</td>\n",
       "      <td>-0.382237</td>\n",
       "      <td>0.382237</td>\n",
       "    </tr>\n",
       "    <tr>\n",
       "      <th>Up</th>\n",
       "      <td>-0.258067</td>\n",
       "      <td>-0.096146</td>\n",
       "      <td>0.094027</td>\n",
       "      <td>-0.161730</td>\n",
       "      <td>0.383397</td>\n",
       "      <td>-0.450577</td>\n",
       "      <td>-0.622164</td>\n",
       "      <td>-0.359443</td>\n",
       "      <td>0.357588</td>\n",
       "      <td>0.093583</td>\n",
       "      <td>...</td>\n",
       "      <td>0.150942</td>\n",
       "      <td>-0.150942</td>\n",
       "      <td>-0.235904</td>\n",
       "      <td>-0.870951</td>\n",
       "      <td>1.000000</td>\n",
       "      <td>-0.037582</td>\n",
       "      <td>0.078563</td>\n",
       "      <td>-0.058936</td>\n",
       "      <td>0.455676</td>\n",
       "      <td>-0.455676</td>\n",
       "    </tr>\n",
       "    <tr>\n",
       "      <th>LVH</th>\n",
       "      <td>0.145727</td>\n",
       "      <td>0.053166</td>\n",
       "      <td>0.177077</td>\n",
       "      <td>-0.011656</td>\n",
       "      <td>0.125793</td>\n",
       "      <td>0.086794</td>\n",
       "      <td>0.010670</td>\n",
       "      <td>0.002289</td>\n",
       "      <td>-0.085791</td>\n",
       "      <td>0.035299</td>\n",
       "      <td>...</td>\n",
       "      <td>0.049518</td>\n",
       "      <td>-0.049518</td>\n",
       "      <td>0.043755</td>\n",
       "      <td>0.015091</td>\n",
       "      <td>-0.037582</td>\n",
       "      <td>1.000000</td>\n",
       "      <td>-0.623227</td>\n",
       "      <td>-0.248892</td>\n",
       "      <td>0.016382</td>\n",
       "      <td>-0.016382</td>\n",
       "    </tr>\n",
       "    <tr>\n",
       "      <th>Normal</th>\n",
       "      <td>-0.230566</td>\n",
       "      <td>-0.116851</td>\n",
       "      <td>-0.038470</td>\n",
       "      <td>-0.093028</td>\n",
       "      <td>0.023801</td>\n",
       "      <td>-0.116719</td>\n",
       "      <td>-0.091580</td>\n",
       "      <td>-0.063606</td>\n",
       "      <td>0.107941</td>\n",
       "      <td>0.005010</td>\n",
       "      <td>...</td>\n",
       "      <td>0.010634</td>\n",
       "      <td>-0.010634</td>\n",
       "      <td>-0.060564</td>\n",
       "      <td>-0.047172</td>\n",
       "      <td>0.078563</td>\n",
       "      <td>-0.623227</td>\n",
       "      <td>1.000000</td>\n",
       "      <td>-0.602314</td>\n",
       "      <td>0.072924</td>\n",
       "      <td>-0.072924</td>\n",
       "    </tr>\n",
       "    <tr>\n",
       "      <th>ST</th>\n",
       "      <td>0.136798</td>\n",
       "      <td>0.090447</td>\n",
       "      <td>-0.133106</td>\n",
       "      <td>0.127110</td>\n",
       "      <td>-0.157879</td>\n",
       "      <td>0.055958</td>\n",
       "      <td>0.102527</td>\n",
       "      <td>0.076438</td>\n",
       "      <td>-0.046111</td>\n",
       "      <td>-0.042236</td>\n",
       "      <td>...</td>\n",
       "      <td>-0.063715</td>\n",
       "      <td>0.063715</td>\n",
       "      <td>0.030345</td>\n",
       "      <td>0.043017</td>\n",
       "      <td>-0.058936</td>\n",
       "      <td>-0.248892</td>\n",
       "      <td>-0.602314</td>\n",
       "      <td>1.000000</td>\n",
       "      <td>-0.107036</td>\n",
       "      <td>0.107036</td>\n",
       "    </tr>\n",
       "    <tr>\n",
       "      <th>N</th>\n",
       "      <td>-0.215793</td>\n",
       "      <td>-0.155101</td>\n",
       "      <td>0.034166</td>\n",
       "      <td>-0.060451</td>\n",
       "      <td>0.370425</td>\n",
       "      <td>-0.408752</td>\n",
       "      <td>-0.494282</td>\n",
       "      <td>-0.430034</td>\n",
       "      <td>0.300365</td>\n",
       "      <td>0.166030</td>\n",
       "      <td>...</td>\n",
       "      <td>0.190664</td>\n",
       "      <td>-0.190664</td>\n",
       "      <td>-0.136439</td>\n",
       "      <td>-0.382237</td>\n",
       "      <td>0.455676</td>\n",
       "      <td>0.016382</td>\n",
       "      <td>0.072924</td>\n",
       "      <td>-0.107036</td>\n",
       "      <td>1.000000</td>\n",
       "      <td>-1.000000</td>\n",
       "    </tr>\n",
       "    <tr>\n",
       "      <th>Y</th>\n",
       "      <td>0.215793</td>\n",
       "      <td>0.155101</td>\n",
       "      <td>-0.034166</td>\n",
       "      <td>0.060451</td>\n",
       "      <td>-0.370425</td>\n",
       "      <td>0.408752</td>\n",
       "      <td>0.494282</td>\n",
       "      <td>0.430034</td>\n",
       "      <td>-0.300365</td>\n",
       "      <td>-0.166030</td>\n",
       "      <td>...</td>\n",
       "      <td>-0.190664</td>\n",
       "      <td>0.190664</td>\n",
       "      <td>0.136439</td>\n",
       "      <td>0.382237</td>\n",
       "      <td>-0.455676</td>\n",
       "      <td>-0.016382</td>\n",
       "      <td>-0.072924</td>\n",
       "      <td>0.107036</td>\n",
       "      <td>-1.000000</td>\n",
       "      <td>1.000000</td>\n",
       "    </tr>\n",
       "  </tbody>\n",
       "</table>\n",
       "<p>21 rows × 21 columns</p>\n",
       "</div>"
      ],
      "text/plain": [
       "                   Age  RestingBP  Cholesterol  FastingBS     MaxHR   Oldpeak  \\\n",
       "Age           1.000000   0.254399    -0.095282   0.198039 -0.382045  0.258612   \n",
       "RestingBP     0.254399   1.000000     0.100893   0.070193 -0.112135  0.164803   \n",
       "Cholesterol  -0.095282   0.100893     1.000000  -0.260974  0.235792  0.050148   \n",
       "FastingBS     0.198039   0.070193    -0.260974   1.000000 -0.131438  0.052698   \n",
       "MaxHR        -0.382045  -0.112135     0.235792  -0.131438  1.000000 -0.160691   \n",
       "Oldpeak       0.258612   0.164803     0.050148   0.052698 -0.160691  1.000000   \n",
       "HeartDisease  0.282039   0.107589    -0.232741   0.267291 -0.400421  0.403951   \n",
       "ASY           0.166607   0.048824    -0.120531   0.131176 -0.354963  0.280026   \n",
       "ATA          -0.218165  -0.046153     0.150954  -0.140514  0.253735 -0.262124   \n",
       "NAP          -0.011335  -0.041348    -0.006634  -0.039249  0.134580 -0.106212   \n",
       "TA            0.032042   0.049855     0.017365   0.026885  0.100025  0.032231   \n",
       "F            -0.055750  -0.005133     0.200092  -0.120076  0.189186 -0.105734   \n",
       "M             0.055750   0.005133    -0.200092   0.120076 -0.189186  0.105734   \n",
       "Down          0.138397  -0.007912    -0.083371   0.105102 -0.073316  0.322130   \n",
       "Flat          0.185568   0.099207    -0.050953   0.107006 -0.342581  0.283295   \n",
       "Up           -0.258067  -0.096146     0.094027  -0.161730  0.383397 -0.450577   \n",
       "LVH           0.145727   0.053166     0.177077  -0.011656  0.125793  0.086794   \n",
       "Normal       -0.230566  -0.116851    -0.038470  -0.093028  0.023801 -0.116719   \n",
       "ST            0.136798   0.090447    -0.133106   0.127110 -0.157879  0.055958   \n",
       "N            -0.215793  -0.155101     0.034166  -0.060451  0.370425 -0.408752   \n",
       "Y             0.215793   0.155101    -0.034166   0.060451 -0.370425  0.408752   \n",
       "\n",
       "              HeartDisease       ASY       ATA       NAP  ...         F  \\\n",
       "Age               0.282039  0.166607 -0.218165 -0.011335  ... -0.055750   \n",
       "RestingBP         0.107589  0.048824 -0.046153 -0.041348  ... -0.005133   \n",
       "Cholesterol      -0.232741 -0.120531  0.150954 -0.006634  ...  0.200092   \n",
       "FastingBS         0.267291  0.131176 -0.140514 -0.039249  ... -0.120076   \n",
       "MaxHR            -0.400421 -0.354963  0.253735  0.134580  ...  0.189186   \n",
       "Oldpeak           0.403951  0.280026 -0.262124 -0.106212  ... -0.105734   \n",
       "HeartDisease      1.000000  0.516716 -0.401924 -0.212964  ... -0.305445   \n",
       "ASY               0.516716  1.000000 -0.522432 -0.577670  ... -0.183876   \n",
       "ATA              -0.401924 -0.522432  1.000000 -0.256767  ...  0.161522   \n",
       "NAP              -0.212964 -0.577670 -0.256767  1.000000  ...  0.066486   \n",
       "TA               -0.054790 -0.249003 -0.110679 -0.122381  ...  0.004031   \n",
       "F                -0.305445 -0.183876  0.161522  0.066486  ...  1.000000   \n",
       "M                 0.305445  0.183876 -0.161522 -0.066486  ... -1.000000   \n",
       "Down              0.122527  0.103407 -0.097754 -0.040816  ... -0.066036   \n",
       "Flat              0.554134  0.303645 -0.304667 -0.072031  ... -0.116077   \n",
       "Up               -0.622164 -0.359443  0.357588  0.093583  ...  0.150942   \n",
       "LVH               0.010670  0.002289 -0.085791  0.035299  ...  0.049518   \n",
       "Normal           -0.091580 -0.063606  0.107941  0.005010  ...  0.010634   \n",
       "ST                0.102527  0.076438 -0.046111 -0.042236  ... -0.063715   \n",
       "N                -0.494282 -0.430034  0.300365  0.166030  ...  0.190664   \n",
       "Y                 0.494282  0.430034 -0.300365 -0.166030  ... -0.190664   \n",
       "\n",
       "                     M      Down      Flat        Up       LVH    Normal  \\\n",
       "Age           0.055750  0.138397  0.185568 -0.258067  0.145727 -0.230566   \n",
       "RestingBP     0.005133 -0.007912  0.099207 -0.096146  0.053166 -0.116851   \n",
       "Cholesterol  -0.200092 -0.083371 -0.050953  0.094027  0.177077 -0.038470   \n",
       "FastingBS     0.120076  0.105102  0.107006 -0.161730 -0.011656 -0.093028   \n",
       "MaxHR        -0.189186 -0.073316 -0.342581  0.383397  0.125793  0.023801   \n",
       "Oldpeak       0.105734  0.322130  0.283295 -0.450577  0.086794 -0.116719   \n",
       "HeartDisease  0.305445  0.122527  0.554134 -0.622164  0.010670 -0.091580   \n",
       "ASY           0.183876  0.103407  0.303645 -0.359443  0.002289 -0.063606   \n",
       "ATA          -0.161522 -0.097754 -0.304667  0.357588 -0.085791  0.107941   \n",
       "NAP          -0.066486 -0.040816 -0.072031  0.093583  0.035299  0.005010   \n",
       "TA           -0.004031  0.016651 -0.010486  0.002087  0.081407 -0.057719   \n",
       "F            -1.000000 -0.066036 -0.116077  0.150942  0.049518  0.010634   \n",
       "M             1.000000  0.066036  0.116077 -0.150942 -0.049518 -0.010634   \n",
       "Down          0.066036  1.000000 -0.272040 -0.235904  0.043755 -0.060564   \n",
       "Flat          0.116077 -0.272040  1.000000 -0.870951  0.015091 -0.047172   \n",
       "Up           -0.150942 -0.235904 -0.870951  1.000000 -0.037582  0.078563   \n",
       "LVH          -0.049518  0.043755  0.015091 -0.037582  1.000000 -0.623227   \n",
       "Normal       -0.010634 -0.060564 -0.047172  0.078563 -0.623227  1.000000   \n",
       "ST            0.063715  0.030345  0.043017 -0.058936 -0.248892 -0.602314   \n",
       "N            -0.190664 -0.136439 -0.382237  0.455676  0.016382  0.072924   \n",
       "Y             0.190664  0.136439  0.382237 -0.455676 -0.016382 -0.072924   \n",
       "\n",
       "                    ST         N         Y  \n",
       "Age           0.136798 -0.215793  0.215793  \n",
       "RestingBP     0.090447 -0.155101  0.155101  \n",
       "Cholesterol  -0.133106  0.034166 -0.034166  \n",
       "FastingBS     0.127110 -0.060451  0.060451  \n",
       "MaxHR        -0.157879  0.370425 -0.370425  \n",
       "Oldpeak       0.055958 -0.408752  0.408752  \n",
       "HeartDisease  0.102527 -0.494282  0.494282  \n",
       "ASY           0.076438 -0.430034  0.430034  \n",
       "ATA          -0.046111  0.300365 -0.300365  \n",
       "NAP          -0.042236  0.166030 -0.166030  \n",
       "TA           -0.011611  0.128105 -0.128105  \n",
       "F            -0.063715  0.190664 -0.190664  \n",
       "M             0.063715 -0.190664  0.190664  \n",
       "Down          0.030345 -0.136439  0.136439  \n",
       "Flat          0.043017 -0.382237  0.382237  \n",
       "Up           -0.058936  0.455676 -0.455676  \n",
       "LVH          -0.248892  0.016382 -0.016382  \n",
       "Normal       -0.602314  0.072924 -0.072924  \n",
       "ST            1.000000 -0.107036  0.107036  \n",
       "N            -0.107036  1.000000 -1.000000  \n",
       "Y             0.107036 -1.000000  1.000000  \n",
       "\n",
       "[21 rows x 21 columns]"
      ]
     },
     "execution_count": 17,
     "metadata": {},
     "output_type": "execute_result"
    }
   ],
   "source": [
    "new_df.corr()"
   ]
  },
  {
   "cell_type": "code",
   "execution_count": 18,
   "id": "a14c4531",
   "metadata": {},
   "outputs": [
    {
     "data": {
      "text/plain": [
       "<matplotlib.image.AxesImage at 0x226d484a970>"
      ]
     },
     "execution_count": 18,
     "metadata": {},
     "output_type": "execute_result"
    },
    {
     "data": {
      "image/png": "[encoded data removed]",
      "text/plain": [
       "<Figure size 288x288 with 1 Axes>"
      ]
     },
     "metadata": {
      "needs_background": "light"
     },
     "output_type": "display_data"
    }
   ],
   "source": [
    "plt.matshow(new_df.corr())"
   ]
  },
  {
   "cell_type": "code",
   "execution_count": 19,
   "id": "050a8e3f",
   "metadata": {},
   "outputs": [
    {
     "data": {
      "image/png": "[encoded data removed]",
      "text/plain": [
       "<Figure size 1368x1080 with 2 Axes>"
      ]
     },
     "metadata": {
      "needs_background": "light"
     },
     "output_type": "display_data"
    }
   ],
   "source": [
    "f = plt.figure(figsize=(19, 15))\n",
    "plt.matshow(new_df.corr(), fignum=f.number)\n",
    "plt.xticks(range(new_df.shape[1]), new_df.columns, fontsize=14, rotation=45)\n",
    "plt.yticks(range(new_df.shape[1]), new_df.columns, fontsize=14)\n",
    "cb = plt.colorbar()\n",
    "cb.ax.tick_params(labelsize=14)\n",
    "plt.title('Correlation Matrix', fontsize=16);"
   ]
  },
  {
   "cell_type": "code",
   "execution_count": 20,
   "id": "0be7db20",
   "metadata": {},
   "outputs": [],
   "source": [
    "#cheking outliers"
   ]
  },
  {
   "cell_type": "code",
   "execution_count": 21,
   "id": "7ad6b7e5",
   "metadata": {},
   "outputs": [
    {
     "data": {
      "text/plain": [
       "(918, 21)"
      ]
     },
     "execution_count": 21,
     "metadata": {},
     "output_type": "execute_result"
    }
   ],
   "source": [
    "new_df.shape"
   ]
  },
  {
   "cell_type": "code",
   "execution_count": 22,
   "id": "60c55130",
   "metadata": {},
   "outputs": [],
   "source": [
    "new_df = new_df[(np.abs(stats.zscore(new_df)) < 3).all(axis=1)]"
   ]
  },
  {
   "cell_type": "code",
   "execution_count": 23,
   "id": "5d2bee5f",
   "metadata": {},
   "outputs": [
    {
     "data": {
      "text/plain": [
       "(800, 21)"
      ]
     },
     "execution_count": 23,
     "metadata": {},
     "output_type": "execute_result"
    }
   ],
   "source": [
    "new_df.shape"
   ]
  },
  {
   "cell_type": "code",
   "execution_count": 24,
   "id": "1f4c0e24",
   "metadata": {},
   "outputs": [],
   "source": [
    "#We can see there is some certain correlation between the categorical values"
   ]
  },
  {
   "cell_type": "code",
   "execution_count": 25,
   "id": "ca67246a",
   "metadata": {},
   "outputs": [
    {
     "data": {
      "text/plain": [
       "0      0\n",
       "1      1\n",
       "2      0\n",
       "3      1\n",
       "4      0\n",
       "      ..\n",
       "912    1\n",
       "914    1\n",
       "915    1\n",
       "916    1\n",
       "917    0\n",
       "Name: HeartDisease, Length: 800, dtype: int64"
      ]
     },
     "execution_count": 25,
     "metadata": {},
     "output_type": "execute_result"
    }
   ],
   "source": [
    "y = new_df.HeartDisease\n",
    "y"
   ]
  },
  {
   "cell_type": "code",
   "execution_count": 26,
   "id": "2a55462c",
   "metadata": {},
   "outputs": [
    {
     "data": {
      "text/plain": [
       "<AxesSubplot:>"
      ]
     },
     "execution_count": 26,
     "metadata": {},
     "output_type": "execute_result"
    },
    {
     "data": {
      "image/png": "[encoded data removed]",
      "text/plain": [
       "<Figure size 432x288 with 1 Axes>"
      ]
     },
     "metadata": {
      "needs_background": "light"
     },
     "output_type": "display_data"
    }
   ],
   "source": [
    "y.value_counts().plot(kind = 'bar')"
   ]
  },
  {
   "cell_type": "code",
   "execution_count": 27,
   "id": "d788bf9b",
   "metadata": {},
   "outputs": [
    {
     "data": {
      "text/html": [
       "<div>\n",
       "<style scoped>\n",
       "    .dataframe tbody tr th:only-of-type {\n",
       "        vertical-align: middle;\n",
       "    }\n",
       "\n",
       "    .dataframe tbody tr th {\n",
       "        vertical-align: top;\n",
       "    }\n",
       "\n",
       "    .dataframe thead th {\n",
       "        text-align: right;\n",
       "    }\n",
       "</style>\n",
       "<table border=\"1\" class=\"dataframe\">\n",
       "  <thead>\n",
       "    <tr style=\"text-align: right;\">\n",
       "      <th></th>\n",
       "      <th>Age</th>\n",
       "      <th>RestingBP</th>\n",
       "      <th>Cholesterol</th>\n",
       "      <th>FastingBS</th>\n",
       "      <th>MaxHR</th>\n",
       "      <th>Oldpeak</th>\n",
       "      <th>ASY</th>\n",
       "      <th>ATA</th>\n",
       "      <th>NAP</th>\n",
       "      <th>TA</th>\n",
       "      <th>F</th>\n",
       "      <th>M</th>\n",
       "      <th>Down</th>\n",
       "      <th>Flat</th>\n",
       "      <th>Up</th>\n",
       "      <th>LVH</th>\n",
       "      <th>Normal</th>\n",
       "      <th>ST</th>\n",
       "      <th>N</th>\n",
       "      <th>Y</th>\n",
       "    </tr>\n",
       "  </thead>\n",
       "  <tbody>\n",
       "    <tr>\n",
       "      <th>0</th>\n",
       "      <td>40</td>\n",
       "      <td>140</td>\n",
       "      <td>289</td>\n",
       "      <td>0</td>\n",
       "      <td>172</td>\n",
       "      <td>0.0</td>\n",
       "      <td>0</td>\n",
       "      <td>1</td>\n",
       "      <td>0</td>\n",
       "      <td>0</td>\n",
       "      <td>0</td>\n",
       "      <td>1</td>\n",
       "      <td>0</td>\n",
       "      <td>0</td>\n",
       "      <td>1</td>\n",
       "      <td>0</td>\n",
       "      <td>1</td>\n",
       "      <td>0</td>\n",
       "      <td>1</td>\n",
       "      <td>0</td>\n",
       "    </tr>\n",
       "    <tr>\n",
       "      <th>1</th>\n",
       "      <td>49</td>\n",
       "      <td>160</td>\n",
       "      <td>180</td>\n",
       "      <td>0</td>\n",
       "      <td>156</td>\n",
       "      <td>1.0</td>\n",
       "      <td>0</td>\n",
       "      <td>0</td>\n",
       "      <td>1</td>\n",
       "      <td>0</td>\n",
       "      <td>1</td>\n",
       "      <td>0</td>\n",
       "      <td>0</td>\n",
       "      <td>1</td>\n",
       "      <td>0</td>\n",
       "      <td>0</td>\n",
       "      <td>1</td>\n",
       "      <td>0</td>\n",
       "      <td>1</td>\n",
       "      <td>0</td>\n",
       "    </tr>\n",
       "    <tr>\n",
       "      <th>2</th>\n",
       "      <td>37</td>\n",
       "      <td>130</td>\n",
       "      <td>283</td>\n",
       "      <td>0</td>\n",
       "      <td>98</td>\n",
       "      <td>0.0</td>\n",
       "      <td>0</td>\n",
       "      <td>1</td>\n",
       "      <td>0</td>\n",
       "      <td>0</td>\n",
       "      <td>0</td>\n",
       "      <td>1</td>\n",
       "      <td>0</td>\n",
       "      <td>0</td>\n",
       "      <td>1</td>\n",
       "      <td>0</td>\n",
       "      <td>0</td>\n",
       "      <td>1</td>\n",
       "      <td>1</td>\n",
       "      <td>0</td>\n",
       "    </tr>\n",
       "    <tr>\n",
       "      <th>3</th>\n",
       "      <td>48</td>\n",
       "      <td>138</td>\n",
       "      <td>214</td>\n",
       "      <td>0</td>\n",
       "      <td>108</td>\n",
       "      <td>1.5</td>\n",
       "      <td>1</td>\n",
       "      <td>0</td>\n",
       "      <td>0</td>\n",
       "      <td>0</td>\n",
       "      <td>1</td>\n",
       "      <td>0</td>\n",
       "      <td>0</td>\n",
       "      <td>1</td>\n",
       "      <td>0</td>\n",
       "      <td>0</td>\n",
       "      <td>1</td>\n",
       "      <td>0</td>\n",
       "      <td>0</td>\n",
       "      <td>1</td>\n",
       "    </tr>\n",
       "    <tr>\n",
       "      <th>4</th>\n",
       "      <td>54</td>\n",
       "      <td>150</td>\n",
       "      <td>195</td>\n",
       "      <td>0</td>\n",
       "      <td>122</td>\n",
       "      <td>0.0</td>\n",
       "      <td>0</td>\n",
       "      <td>0</td>\n",
       "      <td>1</td>\n",
       "      <td>0</td>\n",
       "      <td>0</td>\n",
       "      <td>1</td>\n",
       "      <td>0</td>\n",
       "      <td>0</td>\n",
       "      <td>1</td>\n",
       "      <td>0</td>\n",
       "      <td>1</td>\n",
       "      <td>0</td>\n",
       "      <td>1</td>\n",
       "      <td>0</td>\n",
       "    </tr>\n",
       "  </tbody>\n",
       "</table>\n",
       "</div>"
      ],
      "text/plain": [
       "   Age  RestingBP  Cholesterol  FastingBS  MaxHR  Oldpeak  ASY  ATA  NAP  TA  \\\n",
       "0   40        140          289          0    172      0.0    0    1    0   0   \n",
       "1   49        160          180          0    156      1.0    0    0    1   0   \n",
       "2   37        130          283          0     98      0.0    0    1    0   0   \n",
       "3   48        138          214          0    108      1.5    1    0    0   0   \n",
       "4   54        150          195          0    122      0.0    0    0    1   0   \n",
       "\n",
       "   F  M  Down  Flat  Up  LVH  Normal  ST  N  Y  \n",
       "0  0  1     0     0   1    0       1   0  1  0  \n",
       "1  1  0     0     1   0    0       1   0  1  0  \n",
       "2  0  1     0     0   1    0       0   1  1  0  \n",
       "3  1  0     0     1   0    0       1   0  0  1  \n",
       "4  0  1     0     0   1    0       1   0  1  0  "
      ]
     },
     "execution_count": 27,
     "metadata": {},
     "output_type": "execute_result"
    }
   ],
   "source": [
    "new_df.drop(['HeartDisease'],axis=1,inplace = True)\n",
    "X = new_df.copy()\n",
    "X.head()"
   ]
  },
  {
   "cell_type": "code",
   "execution_count": 28,
   "id": "32eb12fe",
   "metadata": {},
   "outputs": [
    {
     "data": {
      "text/plain": [
       "Index(['Age', 'RestingBP', 'Cholesterol', 'FastingBS', 'MaxHR', 'Oldpeak',\n",
       "       'ASY', 'ATA', 'NAP', 'TA', 'F', 'M', 'Down', 'Flat', 'Up', 'LVH',\n",
       "       'Normal', 'ST', 'N', 'Y'],\n",
       "      dtype='object')"
      ]
     },
     "execution_count": 28,
     "metadata": {},
     "output_type": "execute_result"
    }
   ],
   "source": [
    "l = X.columns\n",
    "l"
   ]
  },
  {
   "cell_type": "code",
   "execution_count": 29,
   "id": "6b2cc87b",
   "metadata": {},
   "outputs": [],
   "source": [
    "#Feature importance"
   ]
  },
  {
   "cell_type": "code",
   "execution_count": 30,
   "id": "fbe43be0",
   "metadata": {},
   "outputs": [],
   "source": [
    "#Using Random forests"
   ]
  },
  {
   "cell_type": "code",
   "execution_count": 31,
   "id": "722195e6",
   "metadata": {},
   "outputs": [],
   "source": [
    "mod = RandomForestRegressor()"
   ]
  },
  {
   "cell_type": "code",
   "execution_count": 32,
   "id": "d24450a1",
   "metadata": {},
   "outputs": [
    {
     "data": {
      "text/plain": [
       "RandomForestRegressor()"
      ]
     },
     "execution_count": 32,
     "metadata": {},
     "output_type": "execute_result"
    }
   ],
   "source": [
    "mod.fit(X,y)"
   ]
  },
  {
   "cell_type": "code",
   "execution_count": 33,
   "id": "ed719028",
   "metadata": {},
   "outputs": [
    {
     "data": {
      "image/png": "[encoded data removed]",
      "text/plain": [
       "<Figure size 432x288 with 1 Axes>"
      ]
     },
     "metadata": {
      "needs_background": "light"
     },
     "output_type": "display_data"
    }
   ],
   "source": [
    "importances = mod.feature_importances_\n",
    "indices = np.argsort(importances)\n",
    "\n",
    "features = l\n",
    "plt.title('Feature Importances')\n",
    "plt.barh(range(len(indices)), importances[indices], color='b', align='center')\n",
    "plt.yticks(range(len(indices)), [features[i] for i in indices])\n",
    "plt.xlabel('Relative Importance')\n",
    "plt.show()"
   ]
  },
  {
   "cell_type": "code",
   "execution_count": 34,
   "id": "e2e63cc2",
   "metadata": {},
   "outputs": [
    {
     "data": {
      "text/plain": [
       "array([14, 13,  2,  4,  5,  1,  6], dtype=int64)"
      ]
     },
     "execution_count": 34,
     "metadata": {},
     "output_type": "execute_result"
    }
   ],
   "source": [
    "indices[::-1][0:7]"
   ]
  },
  {
   "cell_type": "code",
   "execution_count": 35,
   "id": "2b7aec92",
   "metadata": {},
   "outputs": [],
   "source": [
    "#only selecting topmost features"
   ]
  },
  {
   "cell_type": "code",
   "execution_count": 36,
   "id": "6f07569e",
   "metadata": {},
   "outputs": [
    {
     "name": "stdout",
     "output_type": "stream",
     "text": [
      "<class 'pandas.core.frame.DataFrame'>\n",
      "Int64Index: 800 entries, 0 to 917\n",
      "Data columns (total 8 columns):\n",
      " #   Column       Non-Null Count  Dtype  \n",
      "---  ------       --------------  -----  \n",
      " 0   Up           800 non-null    uint8  \n",
      " 1   Flat         800 non-null    uint8  \n",
      " 2   Cholesterol  800 non-null    int64  \n",
      " 3   MaxHR        800 non-null    int64  \n",
      " 4   Oldpeak      800 non-null    float64\n",
      " 5   RestingBP    800 non-null    int64  \n",
      " 6   ASY          800 non-null    uint8  \n",
      " 7   Age          800 non-null    int64  \n",
      "dtypes: float64(1), int64(4), uint8(3)\n",
      "memory usage: 39.8 KB\n"
     ]
    }
   ],
   "source": [
    "l = new_df.columns\n",
    "#indices[::-1][0:8]\n",
    "fc = l[indices[::-1][0:8]]\n",
    "new_df = new_df[fc]\n",
    "new_df.info()\n",
    "#print(fc)"
   ]
  },
  {
   "cell_type": "code",
   "execution_count": 37,
   "id": "7afe6069",
   "metadata": {},
   "outputs": [
    {
     "data": {
      "text/html": [
       "<div>\n",
       "<style scoped>\n",
       "    .dataframe tbody tr th:only-of-type {\n",
       "        vertical-align: middle;\n",
       "    }\n",
       "\n",
       "    .dataframe tbody tr th {\n",
       "        vertical-align: top;\n",
       "    }\n",
       "\n",
       "    .dataframe thead th {\n",
       "        text-align: right;\n",
       "    }\n",
       "</style>\n",
       "<table border=\"1\" class=\"dataframe\">\n",
       "  <thead>\n",
       "    <tr style=\"text-align: right;\">\n",
       "      <th></th>\n",
       "      <th>Up</th>\n",
       "      <th>Flat</th>\n",
       "      <th>Cholesterol</th>\n",
       "      <th>MaxHR</th>\n",
       "      <th>Oldpeak</th>\n",
       "      <th>RestingBP</th>\n",
       "      <th>ASY</th>\n",
       "      <th>Age</th>\n",
       "    </tr>\n",
       "  </thead>\n",
       "  <tbody>\n",
       "    <tr>\n",
       "      <th>0</th>\n",
       "      <td>1</td>\n",
       "      <td>0</td>\n",
       "      <td>289</td>\n",
       "      <td>172</td>\n",
       "      <td>0.0</td>\n",
       "      <td>140</td>\n",
       "      <td>0</td>\n",
       "      <td>40</td>\n",
       "    </tr>\n",
       "    <tr>\n",
       "      <th>1</th>\n",
       "      <td>0</td>\n",
       "      <td>1</td>\n",
       "      <td>180</td>\n",
       "      <td>156</td>\n",
       "      <td>1.0</td>\n",
       "      <td>160</td>\n",
       "      <td>0</td>\n",
       "      <td>49</td>\n",
       "    </tr>\n",
       "    <tr>\n",
       "      <th>2</th>\n",
       "      <td>1</td>\n",
       "      <td>0</td>\n",
       "      <td>283</td>\n",
       "      <td>98</td>\n",
       "      <td>0.0</td>\n",
       "      <td>130</td>\n",
       "      <td>0</td>\n",
       "      <td>37</td>\n",
       "    </tr>\n",
       "    <tr>\n",
       "      <th>3</th>\n",
       "      <td>0</td>\n",
       "      <td>1</td>\n",
       "      <td>214</td>\n",
       "      <td>108</td>\n",
       "      <td>1.5</td>\n",
       "      <td>138</td>\n",
       "      <td>1</td>\n",
       "      <td>48</td>\n",
       "    </tr>\n",
       "    <tr>\n",
       "      <th>4</th>\n",
       "      <td>1</td>\n",
       "      <td>0</td>\n",
       "      <td>195</td>\n",
       "      <td>122</td>\n",
       "      <td>0.0</td>\n",
       "      <td>150</td>\n",
       "      <td>0</td>\n",
       "      <td>54</td>\n",
       "    </tr>\n",
       "  </tbody>\n",
       "</table>\n",
       "</div>"
      ],
      "text/plain": [
       "   Up  Flat  Cholesterol  MaxHR  Oldpeak  RestingBP  ASY  Age\n",
       "0   1     0          289    172      0.0        140    0   40\n",
       "1   0     1          180    156      1.0        160    0   49\n",
       "2   1     0          283     98      0.0        130    0   37\n",
       "3   0     1          214    108      1.5        138    1   48\n",
       "4   1     0          195    122      0.0        150    0   54"
      ]
     },
     "execution_count": 37,
     "metadata": {},
     "output_type": "execute_result"
    }
   ],
   "source": [
    "X = new_df.copy()\n",
    "X.head()"
   ]
  },
  {
   "cell_type": "code",
   "execution_count": 38,
   "id": "9ba0adcb",
   "metadata": {},
   "outputs": [],
   "source": [
    "#scaling the data"
   ]
  },
  {
   "cell_type": "code",
   "execution_count": 39,
   "id": "5119a903",
   "metadata": {},
   "outputs": [],
   "source": [
    "sc = MinMaxScaler()\n",
    "X = sc.fit_transform(X)"
   ]
  },
  {
   "cell_type": "code",
   "execution_count": 40,
   "id": "92c32822",
   "metadata": {},
   "outputs": [
    {
     "data": {
      "text/plain": [
       "array([[1.        , 0.        , 0.55791506, ..., 0.51612903, 0.        ,\n",
       "        0.24489796],\n",
       "       [0.        , 1.        , 0.34749035, ..., 0.7311828 , 0.        ,\n",
       "        0.42857143],\n",
       "       [1.        , 0.        , 0.54633205, ..., 0.40860215, 0.        ,\n",
       "        0.18367347],\n",
       "       ...,\n",
       "       [0.        , 1.        , 0.25289575, ..., 0.40860215, 1.        ,\n",
       "        0.59183673],\n",
       "       [0.        , 1.        , 0.45559846, ..., 0.40860215, 0.        ,\n",
       "        0.59183673],\n",
       "       [1.        , 0.        , 0.33783784, ..., 0.49462366, 0.        ,\n",
       "        0.20408163]])"
      ]
     },
     "execution_count": 40,
     "metadata": {},
     "output_type": "execute_result"
    }
   ],
   "source": [
    "X"
   ]
  },
  {
   "cell_type": "code",
   "execution_count": 41,
   "id": "78a33ec3",
   "metadata": {},
   "outputs": [],
   "source": [
    "#splitting train and validation data"
   ]
  },
  {
   "cell_type": "code",
   "execution_count": 42,
   "id": "f550f1e7",
   "metadata": {},
   "outputs": [],
   "source": [
    "X_train,X_test,y_train,y_test = train_test_split(X,y, train_size=0.8)"
   ]
  },
  {
   "cell_type": "code",
   "execution_count": 43,
   "id": "eea9e86f",
   "metadata": {},
   "outputs": [
    {
     "name": "stdout",
     "output_type": "stream",
     "text": [
      "(640, 8) (640,) (160, 8)\n"
     ]
    }
   ],
   "source": [
    "print(X_train.shape,y_train.shape,X_test.shape)"
   ]
  },
  {
   "cell_type": "code",
   "execution_count": 44,
   "id": "3dc5f720",
   "metadata": {},
   "outputs": [],
   "source": [
    "#Model selection"
   ]
  },
  {
   "cell_type": "code",
   "execution_count": 58,
   "id": "2086211b",
   "metadata": {},
   "outputs": [
    {
     "data": {
      "text/plain": [
       "dict_keys(['C', 'break_ties', 'cache_size', 'class_weight', 'coef0', 'decision_function_shape', 'degree', 'gamma', 'kernel', 'max_iter', 'probability', 'random_state', 'shrinking', 'tol', 'verbose'])"
      ]
     },
     "execution_count": 58,
     "metadata": {},
     "output_type": "execute_result"
    }
   ],
   "source": [
    "SVC().get_params().keys()"
   ]
  },
  {
   "cell_type": "code",
   "execution_count": 46,
   "id": "e03f30c9",
   "metadata": {},
   "outputs": [
    {
     "data": {
      "text/plain": [
       "SVC()"
      ]
     },
     "execution_count": 46,
     "metadata": {},
     "output_type": "execute_result"
    }
   ],
   "source": [
    "mod = SVC()\n",
    "mod.fit(X_train,y_train)"
   ]
  },
  {
   "cell_type": "code",
   "execution_count": 47,
   "id": "193f8daa",
   "metadata": {},
   "outputs": [
    {
     "data": {
      "text/plain": [
       "array([1, 1, 1, 1, 0, 0, 0, 1, 0, 1, 0, 1, 0, 1, 0, 0, 1, 1, 1, 1, 0, 1,\n",
       "       1, 0, 1, 1, 1, 0, 1, 1, 1, 0, 0, 0, 0, 0, 0, 0, 1, 1, 0, 1, 1, 1,\n",
       "       1, 1, 1, 0, 1, 0, 1, 1, 0, 1, 1, 0, 0, 0, 1, 0, 1, 0, 1, 1, 1, 1,\n",
       "       1, 1, 0, 1, 1, 0, 0, 1, 1, 1, 1, 1, 0, 1, 1, 1, 1, 0, 1, 1, 0, 1,\n",
       "       0, 0, 1, 0, 1, 1, 1, 0, 0, 1, 0, 0, 0, 0, 0, 0, 0, 1, 1, 1, 1, 0,\n",
       "       0, 1, 0, 0, 0, 0, 0, 1, 1, 1, 1, 0, 1, 1, 0, 1, 1, 0, 1, 1, 0, 1,\n",
       "       1, 0, 1, 1, 0, 0, 1, 1, 0, 1, 0, 0, 1, 1, 0, 0, 0, 1, 0, 0, 0, 1,\n",
       "       1, 1, 0, 1, 0, 0], dtype=int64)"
      ]
     },
     "execution_count": 47,
     "metadata": {},
     "output_type": "execute_result"
    }
   ],
   "source": [
    "spred = mod.predict(X_test)\n",
    "spred"
   ]
  },
  {
   "cell_type": "code",
   "execution_count": 48,
   "id": "ec79a55d",
   "metadata": {},
   "outputs": [
    {
     "name": "stdout",
     "output_type": "stream",
     "text": [
      "              precision    recall  f1-score   support\n",
      "\n",
      "           0       0.86      0.90      0.88        71\n",
      "           1       0.92      0.89      0.90        89\n",
      "\n",
      "    accuracy                           0.89       160\n",
      "   macro avg       0.89      0.89      0.89       160\n",
      "weighted avg       0.89      0.89      0.89       160\n",
      "\n"
     ]
    }
   ],
   "source": [
    "print(classification_report(spred,y_test))"
   ]
  },
  {
   "cell_type": "code",
   "execution_count": 49,
   "id": "c7685b3b",
   "metadata": {},
   "outputs": [],
   "source": [
    "#Hyperparameter tuning"
   ]
  },
  {
   "cell_type": "code",
   "execution_count": 59,
   "id": "c032ae13",
   "metadata": {},
   "outputs": [],
   "source": [
    "param_grid = {'C': [1, 10, 20, 30, 50, 100, 200, 350, 500, 750, 1000],\n",
    "              'gamma': [0.2, 0.24, 0.28, 0.32, 0.36, 0.38, 0.4, 0.42, 0.44, 0.46, 0.5],\n",
    "              'kernel': ['rbf']}"
   ]
  },
  {
   "cell_type": "code",
   "execution_count": 60,
   "id": "3c46fbb1",
   "metadata": {},
   "outputs": [],
   "source": [
    "grid = GridSearchCV(SVC(), param_grid, refit = True, verbose = 3,n_jobs=-1)"
   ]
  },
  {
   "cell_type": "code",
   "execution_count": 61,
   "id": "6b83be30",
   "metadata": {},
   "outputs": [
    {
     "name": "stdout",
     "output_type": "stream",
     "text": [
      "Fitting 5 folds for each of 121 candidates, totalling 605 fits\n"
     ]
    },
    {
     "data": {
      "text/plain": [
       "GridSearchCV(estimator=SVC(), n_jobs=-1,\n",
       "             param_grid={'C': [1, 10, 20, 30, 50, 100, 200, 350, 500, 750,\n",
       "                               1000],\n",
       "                         'gamma': [0.2, 0.24, 0.28, 0.32, 0.36, 0.38, 0.4, 0.42,\n",
       "                                   0.44, 0.46, 0.5],\n",
       "                         'kernel': ['rbf']},\n",
       "             verbose=3)"
      ]
     },
     "execution_count": 61,
     "metadata": {},
     "output_type": "execute_result"
    }
   ],
   "source": [
    "grid.fit(X_train,y_train)"
   ]
  },
  {
   "cell_type": "code",
   "execution_count": 62,
   "id": "c05bc0df",
   "metadata": {},
   "outputs": [
    {
     "name": "stdout",
     "output_type": "stream",
     "text": [
      "SVC(C=20, gamma=0.36)\n"
     ]
    }
   ],
   "source": [
    "print(grid.best_estimator_)"
   ]
  },
  {
   "cell_type": "code",
   "execution_count": 63,
   "id": "2fea200e",
   "metadata": {},
   "outputs": [
    {
     "data": {
      "text/plain": [
       "array([1, 1, 1, 1, 0, 0, 0, 0, 0, 1, 0, 1, 0, 1, 0, 0, 1, 1, 1, 1, 0, 1,\n",
       "       0, 0, 1, 1, 1, 0, 1, 1, 1, 0, 0, 0, 0, 0, 0, 0, 1, 1, 0, 1, 1, 1,\n",
       "       1, 1, 1, 0, 1, 0, 1, 1, 0, 1, 1, 0, 0, 0, 1, 0, 1, 0, 1, 1, 1, 1,\n",
       "       1, 1, 0, 1, 1, 0, 0, 1, 1, 1, 1, 1, 0, 1, 1, 1, 1, 0, 1, 1, 0, 1,\n",
       "       0, 0, 1, 0, 1, 1, 1, 0, 0, 1, 0, 0, 0, 0, 0, 0, 0, 1, 1, 1, 1, 0,\n",
       "       0, 1, 0, 0, 0, 0, 0, 1, 1, 1, 1, 0, 1, 1, 0, 1, 1, 0, 1, 1, 0, 1,\n",
       "       1, 0, 1, 1, 0, 0, 1, 1, 0, 1, 0, 0, 1, 1, 0, 0, 0, 1, 0, 0, 0, 1,\n",
       "       1, 1, 0, 1, 0, 0], dtype=int64)"
      ]
     },
     "execution_count": 63,
     "metadata": {},
     "output_type": "execute_result"
    }
   ],
   "source": [
    "gpred = grid.predict(X_test)\n",
    "gpred"
   ]
  },
  {
   "cell_type": "code",
   "execution_count": 64,
   "id": "0bcd952d",
   "metadata": {},
   "outputs": [
    {
     "name": "stdout",
     "output_type": "stream",
     "text": [
      "              precision    recall  f1-score   support\n",
      "\n",
      "           0       0.86      0.88      0.87        73\n",
      "           1       0.90      0.89      0.89        87\n",
      "\n",
      "    accuracy                           0.88       160\n",
      "   macro avg       0.88      0.88      0.88       160\n",
      "weighted avg       0.88      0.88      0.88       160\n",
      "\n"
     ]
    }
   ],
   "source": [
    "print(classification_report(gpred,y_test))"
   ]
  },
  {
   "cell_type": "code",
   "execution_count": null,
   "id": "8a685531",
   "metadata": {},
   "outputs": [],
   "source": []
  },
  {
   "cell_type": "code",
   "execution_count": null,
   "id": "e23d91b9",
   "metadata": {},
   "outputs": [],
   "source": []
  },
  {
   "cell_type": "code",
   "execution_count": null,
   "id": "32eeeaff",
   "metadata": {},
   "outputs": [],
   "source": []
  },
  {
   "cell_type": "code",
   "execution_count": null,
   "id": "cce7a90c",
   "metadata": {},
   "outputs": [],
   "source": []
  }
 ],
 "metadata": {
  "kernelspec": {
   "display_name": "Python 3 (ipykernel)",
   "language": "python",
   "name": "python3"
  },
  "language_info": {
   "codemirror_mode": {
    "name": "ipython",
    "version": 3
   },
   "file_extension": ".py",
   "mimetype": "text/x-python",
   "name": "python",
   "nbconvert_exporter": "python",
   "pygments_lexer": "ipython3",
   "version": "3.9.7"
  }
 },
 "nbformat": 4,
 "nbformat_minor": 5
}
